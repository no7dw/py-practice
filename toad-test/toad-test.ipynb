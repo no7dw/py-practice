{
 "cells": [
  {
   "cell_type": "code",
   "execution_count": 1,
   "id": "black-album",
   "metadata": {},
   "outputs": [],
   "source": [
    "import pandas as pd\n",
    "import numpy as np\n",
    "import toad"
   ]
  },
  {
   "cell_type": "code",
   "execution_count": 10,
   "id": "coral-activation",
   "metadata": {},
   "outputs": [
    {
     "name": "stdout",
     "output_type": "stream",
     "text": [
      "Shape: (500, 7)\n"
     ]
    },
    {
     "data": {
      "text/html": [
       "<div>\n",
       "<style scoped>\n",
       "    .dataframe tbody tr th:only-of-type {\n",
       "        vertical-align: middle;\n",
       "    }\n",
       "\n",
       "    .dataframe tbody tr th {\n",
       "        vertical-align: top;\n",
       "    }\n",
       "\n",
       "    .dataframe thead th {\n",
       "        text-align: right;\n",
       "    }\n",
       "</style>\n",
       "<table border=\"1\" class=\"dataframe\">\n",
       "  <thead>\n",
       "    <tr style=\"text-align: right;\">\n",
       "      <th></th>\n",
       "      <th>A</th>\n",
       "      <th>B</th>\n",
       "      <th>C</th>\n",
       "      <th>D</th>\n",
       "      <th>E</th>\n",
       "      <th>F</th>\n",
       "      <th>target</th>\n",
       "    </tr>\n",
       "  </thead>\n",
       "  <tbody>\n",
       "    <tr>\n",
       "      <th>0</th>\n",
       "      <td>0.417022</td>\n",
       "      <td>87</td>\n",
       "      <td>0.154276</td>\n",
       "      <td>0.383389</td>\n",
       "      <td>NaN</td>\n",
       "      <td>84.100880</td>\n",
       "      <td>0</td>\n",
       "    </tr>\n",
       "    <tr>\n",
       "      <th>1</th>\n",
       "      <td>0.720324</td>\n",
       "      <td>57</td>\n",
       "      <td>0.758797</td>\n",
       "      <td>0.769808</td>\n",
       "      <td>NaN</td>\n",
       "      <td>74.668182</td>\n",
       "      <td>1</td>\n",
       "    </tr>\n",
       "    <tr>\n",
       "      <th>2</th>\n",
       "      <td>0.000114</td>\n",
       "      <td>24</td>\n",
       "      <td>0.197145</td>\n",
       "      <td>-0.105166</td>\n",
       "      <td>NaN</td>\n",
       "      <td>7.504475</td>\n",
       "      <td>0</td>\n",
       "    </tr>\n",
       "    <tr>\n",
       "      <th>3</th>\n",
       "      <td>0.302333</td>\n",
       "      <td>55</td>\n",
       "      <td>0.442048</td>\n",
       "      <td>0.300465</td>\n",
       "      <td>NaN</td>\n",
       "      <td>46.824730</td>\n",
       "      <td>1</td>\n",
       "    </tr>\n",
       "    <tr>\n",
       "      <th>4</th>\n",
       "      <td>0.146756</td>\n",
       "      <td>49</td>\n",
       "      <td>0.399363</td>\n",
       "      <td>0.096637</td>\n",
       "      <td>NaN</td>\n",
       "      <td>45.993059</td>\n",
       "      <td>1</td>\n",
       "    </tr>\n",
       "    <tr>\n",
       "      <th>5</th>\n",
       "      <td>0.092339</td>\n",
       "      <td>52</td>\n",
       "      <td>0.045981</td>\n",
       "      <td>-0.022774</td>\n",
       "      <td>NaN</td>\n",
       "      <td>50.068966</td>\n",
       "      <td>1</td>\n",
       "    </tr>\n",
       "    <tr>\n",
       "      <th>6</th>\n",
       "      <td>0.186260</td>\n",
       "      <td>24</td>\n",
       "      <td>0.322268</td>\n",
       "      <td>-0.039216</td>\n",
       "      <td>NaN</td>\n",
       "      <td>37.597628</td>\n",
       "      <td>0</td>\n",
       "    </tr>\n",
       "    <tr>\n",
       "      <th>7</th>\n",
       "      <td>0.345561</td>\n",
       "      <td>15</td>\n",
       "      <td>0.311033</td>\n",
       "      <td>0.412043</td>\n",
       "      <td>NaN</td>\n",
       "      <td>26.698194</td>\n",
       "      <td>1</td>\n",
       "    </tr>\n",
       "    <tr>\n",
       "      <th>8</th>\n",
       "      <td>0.396767</td>\n",
       "      <td>67</td>\n",
       "      <td>0.393938</td>\n",
       "      <td>0.435124</td>\n",
       "      <td>NaN</td>\n",
       "      <td>56.782580</td>\n",
       "      <td>0</td>\n",
       "    </tr>\n",
       "    <tr>\n",
       "      <th>9</th>\n",
       "      <td>0.538817</td>\n",
       "      <td>73</td>\n",
       "      <td>0.407933</td>\n",
       "      <td>0.509187</td>\n",
       "      <td>NaN</td>\n",
       "      <td>71.328520</td>\n",
       "      <td>0</td>\n",
       "    </tr>\n",
       "  </tbody>\n",
       "</table>\n",
       "</div>"
      ],
      "text/plain": [
       "          A   B         C         D   E          F  target\n",
       "0  0.417022  87  0.154276  0.383389 NaN  84.100880       0\n",
       "1  0.720324  57  0.758797  0.769808 NaN  74.668182       1\n",
       "2  0.000114  24  0.197145 -0.105166 NaN   7.504475       0\n",
       "3  0.302333  55  0.442048  0.300465 NaN  46.824730       1\n",
       "4  0.146756  49  0.399363  0.096637 NaN  45.993059       1\n",
       "5  0.092339  52  0.045981 -0.022774 NaN  50.068966       1\n",
       "6  0.186260  24  0.322268 -0.039216 NaN  37.597628       0\n",
       "7  0.345561  15  0.311033  0.412043 NaN  26.698194       1\n",
       "8  0.396767  67  0.393938  0.435124 NaN  56.782580       0\n",
       "9  0.538817  73  0.407933  0.509187 NaN  71.328520       0"
      ]
     },
     "execution_count": 10,
     "metadata": {},
     "output_type": "execute_result"
    }
   ],
   "source": [
    "data = pd.read_csv('test.csv')\n",
    "print('Shape:',data.shape)\n",
    "data.head(10)"
   ]
  },
  {
   "cell_type": "code",
   "execution_count": 11,
   "id": "unlikely-database",
   "metadata": {},
   "outputs": [],
   "source": [
    "data.loc[:400, 'tag']='train'\n",
    "data.loc[400:, 'tag']='test'\n"
   ]
  },
  {
   "cell_type": "code",
   "execution_count": 12,
   "id": "liable-invitation",
   "metadata": {},
   "outputs": [],
   "source": [
    "train=data[:400]\n",
    "OOT=data[400:]"
   ]
  },
  {
   "cell_type": "code",
   "execution_count": 13,
   "id": "recreational-hughes",
   "metadata": {},
   "outputs": [
    {
     "name": "stdout",
     "output_type": "stream",
     "text": [
      "初步挑选字段 ['F', 'D']\n"
     ]
    }
   ],
   "source": [
    "data_tr_target = data\n",
    "\n",
    "\n",
    "# 特征初步挑选\n",
    "selected_data, drop_lst = toad.selection.select(data_tr_target, target = 'target', empty = 0.7, iv = 0.03, corr = 0.7, return_drop=True, exclude = ['tag'])\n",
    "# feature_cols = list(set(feature_cols) - set(selected_data.columns))\n",
    "feature_cols = list(set(selected_data.columns) - set(['target'] ) - set(['tag', 'REPAY_TIME']) )\n",
    "print('初步挑选字段', feature_cols[:5])"
   ]
  },
  {
   "cell_type": "code",
   "execution_count": 14,
   "id": "polyphonic-merit",
   "metadata": {},
   "outputs": [
    {
     "data": {
      "text/html": [
       "<div>\n",
       "<style scoped>\n",
       "    .dataframe tbody tr th:only-of-type {\n",
       "        vertical-align: middle;\n",
       "    }\n",
       "\n",
       "    .dataframe tbody tr th {\n",
       "        vertical-align: top;\n",
       "    }\n",
       "\n",
       "    .dataframe thead th {\n",
       "        text-align: right;\n",
       "    }\n",
       "</style>\n",
       "<table border=\"1\" class=\"dataframe\">\n",
       "  <thead>\n",
       "    <tr style=\"text-align: right;\">\n",
       "      <th></th>\n",
       "      <th>count</th>\n",
       "      <th>mean</th>\n",
       "    </tr>\n",
       "    <tr>\n",
       "      <th>tag</th>\n",
       "      <th></th>\n",
       "      <th></th>\n",
       "    </tr>\n",
       "  </thead>\n",
       "  <tbody>\n",
       "    <tr>\n",
       "      <th>test</th>\n",
       "      <td>100</td>\n",
       "      <td>0.4700</td>\n",
       "    </tr>\n",
       "    <tr>\n",
       "      <th>train</th>\n",
       "      <td>400</td>\n",
       "      <td>0.5025</td>\n",
       "    </tr>\n",
       "  </tbody>\n",
       "</table>\n",
       "</div>"
      ],
      "text/plain": [
       "       count    mean\n",
       "tag                 \n",
       "test     100  0.4700\n",
       "train    400  0.5025"
      ]
     },
     "execution_count": 14,
     "metadata": {},
     "output_type": "execute_result"
    }
   ],
   "source": [
    "selected_data.groupby('tag')['target'].agg(['count', 'mean'])"
   ]
  },
  {
   "cell_type": "code",
   "execution_count": 15,
   "id": "pacific-subscription",
   "metadata": {},
   "outputs": [
    {
     "data": {
      "text/plain": [
       "<toad.transform.Combiner at 0x7feda55b89e8>"
      ]
     },
     "execution_count": 15,
     "metadata": {},
     "output_type": "execute_result"
    }
   ],
   "source": [
    "from toad.plot import bin_plot\n",
    "c = toad.transform.Combiner()\n",
    "to_drop=[]\n",
    "c.fit(data_tr_target.drop(to_drop, axis=1), y = 'target', method = 'chi', min_samples = 0.05) \n",
    "\n",
    "# print(c.export())"
   ]
  },
  {
   "cell_type": "code",
   "execution_count": 17,
   "id": "running-behavior",
   "metadata": {},
   "outputs": [],
   "source": [
    "transer = toad.transform.WOETransformer()\n",
    "train_selected=train\n",
    "# combiner.transform() & transer.fit_transform() 转化训练数据，并去掉target列\n",
    "train_woe = transer.fit_transform(c.transform(train_selected), train_selected['target'], exclude=['target'])\n",
    "OOT_woe = transer.transform(c.transform(OOT))\n"
   ]
  },
  {
   "cell_type": "code",
   "execution_count": 18,
   "id": "cleared-collective",
   "metadata": {},
   "outputs": [
    {
     "data": {
      "text/plain": [
       "<toad.transform.Combiner at 0x7feda55b89e8>"
      ]
     },
     "execution_count": 18,
     "metadata": {},
     "output_type": "execute_result"
    }
   ],
   "source": [
    "card = toad.scorecard.ScoreCard(combiner = c, transer = transer, base_score=850, base_odds=20, pdo=50)\n",
    "c.fit(train_selected.drop(to_drop, axis=1), y = 'target', method = 'chi', min_samples = 0.05) #empty_separate = False\n",
    "# card.fit(data_tr_woe[feature_cols], data_tr_target['target'])\n"
   ]
  },
  {
   "cell_type": "code",
   "execution_count": 19,
   "id": "universal-tsunami",
   "metadata": {},
   "outputs": [
    {
     "name": "stdout",
     "output_type": "stream",
     "text": [
      "(400, 3)\n"
     ]
    }
   ],
   "source": [
    "# 将woe转化后的数据做逐步回归\n",
    "final_data = toad.selection.stepwise(train_woe,target = 'target', estimator='ols', direction = 'both', criterion = 'aic', exclude = to_drop)\n",
    "# 将选出的变量应用于test/OOT数据\n",
    "final_OOT = OOT_woe[final_data.columns]\n",
    "print(final_data.shape) # 逐步回归从31个变量中选出了10个"
   ]
  },
  {
   "cell_type": "code",
   "execution_count": 20,
   "id": "authorized-duration",
   "metadata": {},
   "outputs": [],
   "source": [
    "cols = list(final_data.drop(to_drop+['target'],axis=1).columns)"
   ]
  },
  {
   "cell_type": "code",
   "execution_count": 21,
   "id": "convinced-scottish",
   "metadata": {},
   "outputs": [],
   "source": [
    "# 用逻辑回归建模\n",
    "from sklearn.linear_model import LogisticRegression\n",
    "\n",
    "lr = LogisticRegression()\n",
    "lr.fit(final_data[cols], final_data['target'])\n",
    "\n",
    "# 预测训练和OOT\n",
    "# pred_train = lr.predict_proba(final_data.loc[final_data.tag=='train'][col])[:,1]\n",
    "# pred_OOT = lr.predict_proba(final_OOT.loc[final_OOT.tag=='test'][col])[:,1]\n",
    "\n",
    "pred_train = lr.predict_proba(final_data[cols])[:,1]\n",
    "pred_OOT = lr.predict_proba(final_OOT[cols])[:,1]"
   ]
  },
  {
   "cell_type": "code",
   "execution_count": 22,
   "id": "innovative-mauritius",
   "metadata": {},
   "outputs": [
    {
     "name": "stdout",
     "output_type": "stream",
     "text": [
      "train KS 0.22048051201280033\n",
      "train AUC 0.6288282207055176\n",
      "test KS 0.24729024488157367\n",
      "test AUC 0.6290646326776395\n"
     ]
    }
   ],
   "source": [
    "from toad.metrics import KS, AUC\n",
    "\n",
    "print('train KS',KS(pred_train, final_data['target']))\n",
    "print('train AUC',AUC(pred_train, final_data['target']))\n",
    "#test set\n",
    "# print('test KS',KS(pred_OOT, final_OOT.loc[final_OOT.tag == 'test','target']))\n",
    "# print('test AUC',AUC(pred_OOT, final_OOT.loc[final_OOT.tag == 'test','target']))\n",
    "print('test KS',KS(pred_OOT, final_OOT['target'] ) )\n",
    "print('test AUC',AUC(pred_OOT, final_OOT['target'] ))"
   ]
  },
  {
   "cell_type": "code",
   "execution_count": null,
   "id": "american-accordance",
   "metadata": {},
   "outputs": [],
   "source": []
  },
  {
   "cell_type": "code",
   "execution_count": 23,
   "id": "reasonable-fundamental",
   "metadata": {},
   "outputs": [
    {
     "data": {
      "text/html": [
       "<div>\n",
       "<style scoped>\n",
       "    .dataframe tbody tr th:only-of-type {\n",
       "        vertical-align: middle;\n",
       "    }\n",
       "\n",
       "    .dataframe tbody tr th {\n",
       "        vertical-align: top;\n",
       "    }\n",
       "\n",
       "    .dataframe thead th {\n",
       "        text-align: right;\n",
       "    }\n",
       "</style>\n",
       "<table border=\"1\" class=\"dataframe\">\n",
       "  <thead>\n",
       "    <tr style=\"text-align: right;\">\n",
       "      <th></th>\n",
       "      <th>iv</th>\n",
       "      <th>gini</th>\n",
       "      <th>entropy</th>\n",
       "      <th>unique</th>\n",
       "    </tr>\n",
       "  </thead>\n",
       "  <tbody>\n",
       "    <tr>\n",
       "      <th>A</th>\n",
       "      <td>0.144488</td>\n",
       "      <td>NaN</td>\n",
       "      <td>NaN</td>\n",
       "      <td>5.0</td>\n",
       "    </tr>\n",
       "    <tr>\n",
       "      <th>B</th>\n",
       "      <td>0.069675</td>\n",
       "      <td>NaN</td>\n",
       "      <td>NaN</td>\n",
       "      <td>4.0</td>\n",
       "    </tr>\n",
       "  </tbody>\n",
       "</table>\n",
       "</div>"
      ],
      "text/plain": [
       "         iv  gini  entropy  unique\n",
       "A  0.144488   NaN      NaN     5.0\n",
       "B  0.069675   NaN      NaN     4.0"
      ]
     },
     "execution_count": 23,
     "metadata": {},
     "output_type": "execute_result"
    }
   ],
   "source": [
    "iv_df = toad.quality(final_data[cols], target = final_data['target'], iv_only=True)\n",
    "iv_df"
   ]
  },
  {
   "cell_type": "code",
   "execution_count": 24,
   "id": "employed-commissioner",
   "metadata": {},
   "outputs": [
    {
     "data": {
      "image/png": "[encoded data removed]",
      "text/plain": [
       "<Figure size 864x432 with 1 Axes>"
      ]
     },
     "metadata": {},
     "output_type": "display_data"
    },
    {
     "data": {
      "image/png": "[encoded data removed]",
      "text/plain": [
       "<Figure size 864x432 with 1 Axes>"
      ]
     },
     "metadata": {},
     "output_type": "display_data"
    }
   ],
   "source": [
    "from toad.plot import badrate_plot\n",
    "# cols.remove('REPAY_TIME') \n",
    "peroid = 'tag'\n",
    "def plot_bin(cols):    \n",
    "    for col in iv_df.index:\n",
    "        badrate_plot(c.transform(data_tr_target[[col,'target',peroid]], labels=True), target='target', x='tag', by=col)\n",
    "plot_bin(cols)"
   ]
  },
  {
   "cell_type": "code",
   "execution_count": null,
   "id": "local-prison",
   "metadata": {},
   "outputs": [],
   "source": [
    "print('as you can see , NO col in the axis on the righ, only bins')"
   ]
  },
  {
   "cell_type": "code",
   "execution_count": null,
   "id": "further-typing",
   "metadata": {},
   "outputs": [],
   "source": []
  }
 ],
 "metadata": {
  "kernelspec": {
   "display_name": "Python 3",
   "language": "python",
   "name": "python3"
  },
  "language_info": {
   "codemirror_mode": {
    "name": "ipython",
    "version": 3
   },
   "file_extension": ".py",
   "mimetype": "text/x-python",
   "name": "python",
   "nbconvert_exporter": "python",
   "pygments_lexer": "ipython3",
   "version": "3.7.1"
  }
 },
 "nbformat": 4,
 "nbformat_minor": 5
}
